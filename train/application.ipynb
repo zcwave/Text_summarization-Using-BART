{
 "cells": [
  {
   "cell_type": "code",
   "execution_count": null,
   "metadata": {},
   "outputs": [],
   "source": [
    "from transformers import (AutoTokenizer,\n",
    "                          BartForConditionalGeneration)\n",
    "import data_utils"
   ]
  },
  {
   "cell_type": "code",
   "execution_count": null,
   "metadata": {},
   "outputs": [],
   "source": [
    "model = BartForConditionalGeneration.from_pretrained('results/best')\n",
    "model = model.to(\"cuda\")\n",
    "tokenizer = AutoTokenizer.from_pretrained(\"fnlp/bart-base-chinese\")"
   ]
  },
  {
   "cell_type": "code",
   "execution_count": null,
   "metadata": {},
   "outputs": [],
   "source": [
    "data_sets = data_utils.load_data()\n",
    "test_dataset = data_sets['test']"
   ]
  },
  {
   "cell_type": "code",
   "execution_count": null,
   "metadata": {},
   "outputs": [],
   "source": [
    "test_examples = test_dataset[\"document\"][1024: 1024+4]\n",
    "inputs = tokenizer(\n",
    "        test_examples,\n",
    "        padding=\"max_length\",\n",
    "        truncation=True,\n",
    "        max_length=512,\n",
    "        return_tensors=\"pt\",\n",
    "    )\n",
    "input_ids = inputs.input_ids.to(model.device)\n",
    "attention_mask = inputs.attention_mask.to(model.device)\n",
    "outputs = model.generate(input_ids,\n",
    "                        attention_mask=attention_mask, \n",
    "                        max_length=256)\n",
    "\n",
    "output_str = tokenizer.batch_decode(outputs, skip_special_tokens=True)\n",
    "output_str = [s.replace(\" \",\"\") for s in output_str]"
   ]
  },
  {
   "cell_type": "code",
   "execution_count": null,
   "metadata": {},
   "outputs": [],
   "source": [
    "for i in output_str:\n",
    "    print(i)\n",
    "# [1024. 1024+4]"
   ]
  },
  {
   "cell_type": "code",
   "execution_count": null,
   "metadata": {},
   "outputs": [],
   "source": [
    "str1 = '本报讯(记者王瑞)今天凌晨,在俄罗斯喀山进行的2015年世界游泳锦标赛,结束了游泳大项男子800米自由泳决赛争夺,中国选手孙杨以7分39秒96的成绩获得冠军,拿下本届世锦赛第二金,同时赢得了他在800米自由泳上的世锦赛三连冠!加之2009年夺冠的张琳,中国游泳队已经连续四届称霸这一项目,进而超越了澳大利亚队,成为世锦赛男子800米自由泳最成功的队伍。孙杨今晨的策略就是跟随,头100米霍顿第一,孙杨落后0.73秒排名第三。高速前进的霍顿压着世界纪录线在游,200米时还是领先,孙杨落后0.88秒依然排第三。半程过后,天下大乱,帕尔特里涅利开始赶了上来,而孙杨也追了上来,两人很快超过霍顿,最后100米,转过身来“孙杨鱼雷”加速冲击开始!他领先帕尔特里涅利0.04秒到达750米。最后50米孙杨完全甩开膀子,开始全速冲刺,意大利人跟不上了,孙杨第一个游到终点,获得冠军!另外值得一提的是,在稍早结束的男子100米自由泳半决赛中,中国选手宁泽涛以48秒13的成绩获得小组第一,总成绩名列第二,从而成功晋级今晚的决赛。宁泽涛成为世界游泳锦标赛自1973年举办以来,第一位杀入男子100米自由泳决赛的亚洲选手。 '\n",
    "\n",
    "print(f'原文:\\t\\n {str1}')\n",
    "str2 = '游泳世锦赛孙杨800米三连冠'\n",
    "print(f'验证集人工摘要:\\t\\n {str2}')\n",
    "print(f'模型生成摘要:\\t\\n {output_str[0]}')\n",
    "# 3338\n"
   ]
  },
  {
   "cell_type": "code",
   "execution_count": null,
   "metadata": {},
   "outputs": [],
   "source": [
    "print(f'原文:\\t\\n \\t{test_examples[1]}\\n')\n",
    "print(f'验证集人工摘要:\\t\\n \\t{test_dataset[\"summary\"][1025]}')\n",
    "print(f'模型生成摘要:\\t\\n \\t{output_str[1]}')\n",
    "# 3338"
   ]
  },
  {
   "cell_type": "code",
   "execution_count": null,
   "metadata": {},
   "outputs": [],
   "source": [
    "print(f'原文:\\t\\n \\t{test_examples[2]}\\n')\n",
    "print(f'验证集人工摘要:\\t\\n \\t{test_dataset[\"summary\"][1026]}')\n",
    "print(f'模型生成摘要:\\t\\n \\t{output_str[2]}')"
   ]
  }
 ],
 "metadata": {
  "kernelspec": {
   "display_name": "zc",
   "language": "python",
   "name": "python3"
  },
  "language_info": {
   "codemirror_mode": {
    "name": "ipython",
    "version": 3
   },
   "file_extension": ".py",
   "mimetype": "text/x-python",
   "name": "python",
   "nbconvert_exporter": "python",
   "pygments_lexer": "ipython3",
   "version": "3.10.9"
  },
  "orig_nbformat": 4
 },
 "nbformat": 4,
 "nbformat_minor": 2
}
