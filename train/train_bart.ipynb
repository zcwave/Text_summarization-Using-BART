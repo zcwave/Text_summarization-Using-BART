{
 "cells": [
  {
   "cell_type": "code",
   "execution_count": null,
   "metadata": {},
   "outputs": [],
   "source": [
    "from transformers import (AutoTokenizer,\n",
    "                          AutoModelForSeq2SeqLM, \n",
    "                          DataCollatorForSeq2Seq, \n",
    "                          Seq2SeqTrainingArguments, \n",
    "                          Seq2SeqTrainer, \n",
    "                          BartForConditionalGeneration)\n",
    "import data_utils"
   ]
  },
  {
   "cell_type": "code",
   "execution_count": null,
   "metadata": {},
   "outputs": [],
   "source": [
    "batch_size = 32\n",
    "epochs = 5\n",
    "max_input_length = 512 # 最大输入长度 \n",
    "max_target_length = 256 # 最大输出长度\n",
    "lr = 1e-04"
   ]
  },
  {
   "cell_type": "code",
   "execution_count": null,
   "metadata": {},
   "outputs": [],
   "source": [
    "data_sets = data_utils.load_data()\n",
    "tokenizer = AutoTokenizer.from_pretrained(\"fnlp/bart-base-chinese\")\n",
    "\n",
    "model = AutoModelForSeq2SeqLM.from_pretrained(\"fnlp/bart-base-chinese\")\n",
    "\n",
    "tokenized_datasets = data_utils.tokenized(\n",
    "                data_sets, \n",
    "                tokenizer, \n",
    "                max_input_length=max_input_length,\n",
    "                max_target_length=max_target_length)"
   ]
  },
  {
   "cell_type": "code",
   "execution_count": null,
   "metadata": {},
   "outputs": [],
   "source": [
    "# 设置训练参数\n",
    "args = Seq2SeqTrainingArguments(\n",
    "    output_dir=\"results\", # 模型保存路径\n",
    "    num_train_epochs=epochs,\n",
    "    do_train=True,\n",
    "    do_eval=True,\n",
    "    per_device_train_batch_size=batch_size,\n",
    "    per_device_eval_batch_size=batch_size,\n",
    "    learning_rate=lr,\n",
    "    warmup_steps=500,\n",
    "    weight_decay=0.001,\n",
    "    predict_with_generate=True,\n",
    "    logging_dir=\"logs\",\n",
    "    logging_steps=500,\n",
    "    evaluation_strategy=\"steps\", # 按步数评估\n",
    "    save_total_limit=3, \n",
    "    generation_max_length=max_target_length, # 生成的最大长度\n",
    "    generation_num_beams=1,\n",
    "\n",
    "    # 使用rouge-1评估最优模型 \n",
    "    load_best_model_at_end=True,\n",
    "    metric_for_best_model=\"rouge-1\"\n",
    ")"
   ]
  },
  {
   "cell_type": "code",
   "execution_count": null,
   "metadata": {},
   "outputs": [],
   "source": [
    "import numpy as np\n",
    "import lawrouge\n",
    "\n",
    "def compute_metrics(eval_pred):\n",
    "    \"\"\"\n",
    "    @arg1:  predictions, labels = eval_pred\n",
    "    \"\"\"\n",
    "\n",
    "    def _decode(eval_pred_):\n",
    "        predictions, labels = eval_pred_\n",
    "        decoded_preds = tokenizer.batch_decode(predictions, \n",
    "                            skip_special_tokens=True)\n",
    "        labels = np.where(labels != -100, \n",
    "                        labels, \n",
    "                        tokenizer.pad_token_id)\n",
    "        # labels 忽略无意义的填充部分\n",
    "        decoded_labels = tokenizer.batch_decode(labels, \n",
    "                                            skip_special_tokens=True)\n",
    "        return decoded_preds, decoded_labels\n",
    "    \n",
    "\n",
    "    def _join(d_pred):\n",
    "        \"\"\"\n",
    "        @function:将解码后的预测值与人工摘要join成完整的句子\n",
    "        \"\"\"\n",
    "        decoded_preds, decoded_labels = d_pred\n",
    "        decoded_preds = [\"\".join(pred.replace(\" \", \"\")) \n",
    "                        for pred in decoded_preds]\n",
    "        decoded_labels = [\"\".join(label.replace(\" \", \"\")) \n",
    "                        for label in decoded_labels]\n",
    "        return decoded_preds, decoded_labels\n",
    "    \n",
    "    dp, dl = _join(_decode(eval_pred))\n",
    "    rouge = lawrouge.Rouge()\n",
    "    result = rouge.get_scores(dp, \n",
    "                              dl,\n",
    "                              avg=True)\n",
    "    # 计算批次中摘要的平均得分\n",
    "    result = {'rouge-1': result['rouge-1']['f'], \n",
    "              'rouge-2': result['rouge-2']['f'], \n",
    "              'rouge-l': result['rouge-l']['f']}\n",
    "    result = {key: value * 100 \n",
    "              for key, value in result.items()}\n",
    "    return result"
   ]
  },
  {
   "cell_type": "code",
   "execution_count": null,
   "metadata": {},
   "outputs": [],
   "source": [
    "trainer = Seq2SeqTrainer(\n",
    "    model,\n",
    "    args,\n",
    "    train_dataset=tokenized_datasets[\"train\"],\n",
    "    eval_dataset=tokenized_datasets[\"validation\"],\n",
    "    data_collator=data_utils.collate_fn,\n",
    "    tokenizer=tokenizer,\n",
    "    compute_metrics=compute_metrics\n",
    ")"
   ]
  },
  {
   "cell_type": "code",
   "execution_count": null,
   "metadata": {},
   "outputs": [],
   "source": [
    "trainer.train()\n",
    "print(trainer.evaluate(tokenized_datasets[\"validation\"]))\n",
    "# 打印测试集上的结果\n",
    "print(trainer.evaluate(tokenized_datasets[\"test\"]))\n",
    "# 保存最优模型\n",
    "trainer.save_model(\"results/best\")"
   ]
  }
 ],
 "metadata": {
  "kernelspec": {
   "display_name": "Python 3 (ipykernel)",
   "language": "python",
   "name": "python3"
  },
  "language_info": {
   "codemirror_mode": {
    "name": "ipython",
    "version": 3
   },
   "file_extension": ".py",
   "mimetype": "text/x-python",
   "name": "python",
   "nbconvert_exporter": "python",
   "pygments_lexer": "ipython3",
   "version": "3.10.9"
  }
 },
 "nbformat": 4,
 "nbformat_minor": 4
}
